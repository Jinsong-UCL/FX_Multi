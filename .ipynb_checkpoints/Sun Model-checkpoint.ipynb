{
 "cells": [
  {
   "cell_type": "markdown",
   "id": "84d2da34",
   "metadata": {},
   "source": [
    "This notebook is for the Sun model\n"
   ]
  }
 ],
 "metadata": {
  "kernelspec": {
   "display_name": "PyCharm (FX_Multi)",
   "language": "python",
   "name": "pycharm-a7fc6b7a"
  },
  "language_info": {
   "codemirror_mode": {
    "name": "ipython",
    "version": 3
   },
   "file_extension": ".py",
   "mimetype": "text/x-python",
   "name": "python",
   "nbconvert_exporter": "python",
   "pygments_lexer": "ipython3",
   "version": "3.9.7"
  }
 },
 "nbformat": 4,
 "nbformat_minor": 5
}
