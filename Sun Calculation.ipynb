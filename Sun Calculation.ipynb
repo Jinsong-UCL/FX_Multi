{
 "cells": [
  {
   "cell_type": "markdown",
   "metadata": {
    "collapsed": true,
    "pycharm": {
     "name": "#%% md\n"
    }
   },
   "source": [
    "We need the following numbers first:\n",
    "\\begin{align}\n",
    "a_{n}^{i, j}=a_{n}^{i}-a_{n}^{j}\\\\\n",
    "\\tilde{a}_{n}^{i, j}=a_{n}^{i}+a_{n}^{j}\\\\\n",
    "\\tilde{\\rho}_{n, v}=\\rho_{n, v}\\left(a_{n}^{i}-a_{n}^{j}\\right)\n",
    "\\end{align}"
   ]
  },
  {
   "cell_type": "markdown",
   "source": [
    "Then we can have\n",
    "\\begin{align}\n",
    "\\mu_{q, v_{n}}=-\\frac{1}{2}\\left(\\chi_{n}+(\\imath k-q) \\gamma_{n} \\tilde{\\rho}_{n, v}\\right)\\\\\n",
    "\\zeta_{q, v_{n}}=\\frac{1}{2}\\left[4 \\mu_{q,v_{n}}^{2}+2 \\gamma_{n}^{2} \\varphi_{q}^{v_{n}}(k)\\left(a_{n}^{i, j}\\right)^{2}\\right]^{1 / 2}\\\\\n",
    "\\varphi_{q}^{v_{n}}(k)=\\frac{k^{2}}{2}-\\frac{1}{2}\\left[\\left(q^{2}+q \\frac{\\tilde{a}_{n}^{i, j}}{a_{n}^{i, j}}\\right)-\\imath k\\left(2 q+\\frac{\\tilde{a}_{n}^{i, j}}{a_{n}^{i, j}}\\right)\\right]\\\\\n",
    "\\end{align}"
   ],
   "metadata": {
    "collapsed": false,
    "pycharm": {
     "name": "#%% md\n"
    }
   }
  },
  {
   "cell_type": "markdown",
   "source": [
    "Then we have\n",
    "\\begin{align}\n",
    "s_{q, v_{n}, g} &=1-e^{-2 \\zeta_{q, v_{n}} \\tau}, \\\\\n",
    "s_{q, v_{n}, b} &=\\left(\\zeta_{q, v_{n}}+\\mu_{q, v_{n}}\\right) e^{-2 \\zeta_{q, v_{n}} \\tau}+\\left(\\zeta_{q, v_{n}}-\\mu_{q, v_{n}}\\right) .\n",
    "\\end{align}"
   ],
   "metadata": {
    "collapsed": false
   }
  },
  {
   "cell_type": "markdown",
   "source": [
    "The function $\\underline{W_{v, q}^{0(Q)}}\\left(t^{\\prime}-t, \\underline{v}, k ; \\underline{\\Theta_{v}}\\right)$ is\n",
    "\\begin{equation}\n",
    "\n",
    "\\underline{W_{v, q}^{0(Q)}}\\left(t^{\\prime}-t, \\underline{v}, k ; \\underline{\\Theta_{v}}\\right)=e^{-\\sum_{n=1}^{d}\\left(2 \\chi_{n}^{Q} v_{n}^{*(Q)} / \\gamma_{n}^{2}\\right) \\ln \\left(s_{q, v_{n}, b} / 2 \\zeta_{q, v_{n}}\\right)} e^{-\\sum_{n=1}^{d}\\left(2 \\chi_{n}^{Q} v_{n}^{*(Q)} / \\gamma_{n}^{2}\\right)\\left(\\mu_{q, v_{n}}+\\zeta_{q, v_{n}}\\right) T}\n",
    "e^{-\\sum_{n=1}^{d}\\left(2 v_{n}(0) / \\gamma_{n}^{2}\\right)\\left(\\zeta_{q, v_{n}}^{2}-\\mu_{q, v_{n}}^{2}\\right) s_{q, v_{n}, g} / s_{q, v_{n}, b}}\n",
    "\n",
    "\\end{equation}"
   ],
   "metadata": {
    "collapsed": false
   }
  },
  {
   "cell_type": "markdown",
   "source": [
    "[H]By taking $a^{i, j} \\rightarrow 0^{+}$, $\\lambda_{m} \\rightarrow 0^{+}$, $\\eta_{n} \\rightarrow 0^{+}$, we can have the call option in the case $q=2$\n",
    "\\begin{equation}\n",
    "     C_{H}\\left(S_{0}^{i, j}, T, E, \\underline{r_{0}}, \\underline{v_{0}}\\right) = e^{-r_{i}(0) T} e^{2 r_{i}(0) T} \\frac{S_{0}^{i, j}}{2 \\pi} \\int^{+\\infty} d k \\frac{\\left(\\frac{S_{0}^{i, j}}{E}\\right)^{(1-\\imath k)} e^{-\\imath k r_{i}(0) T}}{-k^{2}-3 \\imath k+2} \\underline{W_{v, q}^{0(Q)}}\\left(t^{\\prime}-t, \\underline{v}, k ; \\underline{\\Theta_{r}}\\right)\n",
    "\\end{equation}\n",
    "\n"
   ],
   "metadata": {
    "collapsed": false
   }
  },
  {
   "cell_type": "markdown",
   "source": [
    "[H]and the put option when $q = -2$\n",
    "\\begin{equation}\n",
    "     P_{H}\\left(S_{0}^{i, j}, T, E, \\underline{r}_{0}, \\underline{v_{0}}\\right) =e^{-r_{i}(0) T} e^{-2 r_{i}(0) T} \\frac{S_{0}^{i, j}}{2 \\pi} \\int_{-\\infty}^{+\\infty} d k \\frac{\\left(\\frac{S_{0}^{i, j}}{E}\\right)^{-(3+\\imath k)} e^{-\\imath k r_{i}(0) T}}{-k^{2}+5 \\imath k+6} \\underline{W_{v, q}^{0(Q)}}{\\left(t^{\\prime}-t, \\underline{v}, k ; \\underline{\\Theta_{r}}\\right)}\n",
    "\\end{equation}"
   ],
   "metadata": {
    "collapsed": false,
    "pycharm": {
     "name": "#%% md\n"
    }
   }
  }
 ],
 "metadata": {
  "kernelspec": {
   "display_name": "Python 3",
   "language": "python",
   "name": "python3"
  },
  "language_info": {
   "codemirror_mode": {
    "name": "ipython",
    "version": 2
   },
   "file_extension": ".py",
   "mimetype": "text/x-python",
   "name": "python",
   "nbconvert_exporter": "python",
   "pygments_lexer": "ipython2",
   "version": "2.7.6"
  }
 },
 "nbformat": 4,
 "nbformat_minor": 0
}